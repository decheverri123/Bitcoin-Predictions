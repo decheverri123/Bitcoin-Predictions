{
 "cells": [
  {
   "cell_type": "code",
   "execution_count": 88,
   "metadata": {},
   "outputs": [],
   "source": [
    "import quandl\n",
    "import pandas as pd\n",
    "import numpy as np\n",
    "import matplotlib.pyplot as plt\n",
    "%matplotlib inline"
   ]
  },
  {
   "cell_type": "code",
   "execution_count": 89,
   "metadata": {},
   "outputs": [],
   "source": [
    "df = quandl.get(\"GDAX/USD\", authtoken=\"qdT3g8Du2XKrNBSDnKCo\")\n",
    "days = [i for i in range(len(df))]"
   ]
  },
  {
   "cell_type": "markdown",
   "metadata": {},
   "source": [
    "Let's get the average price per day:"
   ]
  },
  {
   "cell_type": "code",
   "execution_count": 90,
   "metadata": {},
   "outputs": [],
   "source": [
    "zipped = zip(df.High, df.Low)\n",
    "w = 0\n",
    "df['AverageDay'] = np.nan\n",
    "for i in zipped:\n",
    "    df['AverageDay'][w] = np.average(i)\n",
    "    w += 1"
   ]
  },
  {
   "cell_type": "code",
   "execution_count": 91,
   "metadata": {},
   "outputs": [
    {
     "data": {
      "text/html": [
       "<div>\n",
       "<style scoped>\n",
       "    .dataframe tbody tr th:only-of-type {\n",
       "        vertical-align: middle;\n",
       "    }\n",
       "\n",
       "    .dataframe tbody tr th {\n",
       "        vertical-align: top;\n",
       "    }\n",
       "\n",
       "    .dataframe thead th {\n",
       "        text-align: right;\n",
       "    }\n",
       "</style>\n",
       "<table border=\"1\" class=\"dataframe\">\n",
       "  <thead>\n",
       "    <tr style=\"text-align: right;\">\n",
       "      <th></th>\n",
       "      <th>Open</th>\n",
       "      <th>High</th>\n",
       "      <th>Low</th>\n",
       "      <th>AverageDay</th>\n",
       "    </tr>\n",
       "    <tr>\n",
       "      <th>Date</th>\n",
       "      <th></th>\n",
       "      <th></th>\n",
       "      <th></th>\n",
       "      <th></th>\n",
       "    </tr>\n",
       "  </thead>\n",
       "  <tbody>\n",
       "    <tr>\n",
       "      <th>2018-02-11</th>\n",
       "      <td>8560.00</td>\n",
       "      <td>8595.00</td>\n",
       "      <td>7851.00</td>\n",
       "      <td>8223.000</td>\n",
       "    </tr>\n",
       "    <tr>\n",
       "      <th>2018-02-12</th>\n",
       "      <td>8298.24</td>\n",
       "      <td>8883.00</td>\n",
       "      <td>8032.65</td>\n",
       "      <td>8457.825</td>\n",
       "    </tr>\n",
       "    <tr>\n",
       "      <th>2018-02-13</th>\n",
       "      <td>8867.49</td>\n",
       "      <td>8950.00</td>\n",
       "      <td>8393.10</td>\n",
       "      <td>8671.550</td>\n",
       "    </tr>\n",
       "    <tr>\n",
       "      <th>2018-02-14</th>\n",
       "      <td>8535.00</td>\n",
       "      <td>9436.00</td>\n",
       "      <td>8490.00</td>\n",
       "      <td>8963.000</td>\n",
       "    </tr>\n",
       "    <tr>\n",
       "      <th>2018-02-15</th>\n",
       "      <td>9430.00</td>\n",
       "      <td>10249.81</td>\n",
       "      <td>9342.46</td>\n",
       "      <td>9796.135</td>\n",
       "    </tr>\n",
       "  </tbody>\n",
       "</table>\n",
       "</div>"
      ],
      "text/plain": [
       "               Open      High      Low  AverageDay\n",
       "Date                                              \n",
       "2018-02-11  8560.00   8595.00  7851.00    8223.000\n",
       "2018-02-12  8298.24   8883.00  8032.65    8457.825\n",
       "2018-02-13  8867.49   8950.00  8393.10    8671.550\n",
       "2018-02-14  8535.00   9436.00  8490.00    8963.000\n",
       "2018-02-15  9430.00  10249.81  9342.46    9796.135"
      ]
     },
     "execution_count": 91,
     "metadata": {},
     "output_type": "execute_result"
    }
   ],
   "source": [
    "df = df[['Open','High','Low','AverageDay']]\n",
    "df.tail()"
   ]
  },
  {
   "cell_type": "code",
   "execution_count": 92,
   "metadata": {},
   "outputs": [
    {
     "data": {
      "text/plain": [
       "[<matplotlib.lines.Line2D at 0x2910879f320>]"
      ]
     },
     "execution_count": 92,
     "metadata": {},
     "output_type": "execute_result"
    },
    {
     "data": {
      "image/png": "[encoded data removed]",
      "text/plain": [
       "<matplotlib.figure.Figure at 0x29108766160>"
      ]
     },
     "metadata": {},
     "output_type": "display_data"
    }
   ],
   "source": [
    "plt.plot(days, df.AverageDay)"
   ]
  },
  {
   "cell_type": "markdown",
   "metadata": {},
   "source": [
    "We want to predict the High for the day using that day's opening price:"
   ]
  },
  {
   "cell_type": "code",
   "execution_count": 93,
   "metadata": {},
   "outputs": [],
   "source": [
    "import numpy as np\n",
    "from sklearn import preprocessing\n",
    "from sklearn.cross_validation import train_test_split\n",
    "from sklearn.linear_model import LinearRegression"
   ]
  },
  {
   "cell_type": "code",
   "execution_count": 94,
   "metadata": {},
   "outputs": [],
   "source": [
    "X_high = np.array(df.drop(['AverageDay','Low','High'], 1))\n",
    "y_high = np.array(df['High'])"
   ]
  },
  {
   "cell_type": "code",
   "execution_count": 95,
   "metadata": {},
   "outputs": [],
   "source": [
    "X_train_high, X_test_high, y_train_high, y_test_high = train_test_split(X_high, y_high,test_size=0.25)"
   ]
  },
  {
   "cell_type": "code",
   "execution_count": 96,
   "metadata": {},
   "outputs": [
    {
     "data": {
      "text/plain": [
       "0.99802771081927655"
      ]
     },
     "execution_count": 96,
     "metadata": {},
     "output_type": "execute_result"
    }
   ],
   "source": [
    "clf = LinearRegression()\n",
    "clf.fit(X_train_high, y_train_high)\n",
    "accuracy = clf.score(X_test_high, y_test_high)\n",
    "accuracy"
   ]
  },
  {
   "cell_type": "markdown",
   "metadata": {},
   "source": [
    "We seem to get a very accurate model. With more time, it would behoove us to look into these later:"
   ]
  },
  {
   "cell_type": "code",
   "execution_count": 97,
   "metadata": {},
   "outputs": [],
   "source": [
    "def predictHigh(openingPrice):\n",
    "    return int(clf.predict([openingPrice][0]))"
   ]
  },
  {
   "cell_type": "markdown",
   "metadata": {},
   "source": [
    "Now let's predict a day's lowest price using it's opening price:"
   ]
  },
  {
   "cell_type": "code",
   "execution_count": 98,
   "metadata": {},
   "outputs": [],
   "source": [
    "X_low = np.array(df.drop(['Low','High','AverageDay'], 1))\n",
    "y_low = np.array(df['Low'])"
   ]
  },
  {
   "cell_type": "code",
   "execution_count": 99,
   "metadata": {},
   "outputs": [],
   "source": [
    "X_train_low, X_test_low, y_train_low, y_test_low = train_test_split(X_low, y_low,test_size=0.25)"
   ]
  },
  {
   "cell_type": "code",
   "execution_count": 100,
   "metadata": {},
   "outputs": [
    {
     "data": {
      "text/plain": [
       "0.99506473557445096"
      ]
     },
     "execution_count": 100,
     "metadata": {},
     "output_type": "execute_result"
    }
   ],
   "source": [
    "clfLow = LinearRegression()\n",
    "clfLow.fit(X_train_low, y_train_low)\n",
    "accuracy = clfLow.score(X_test_low, y_test_low)\n",
    "accuracy"
   ]
  },
  {
   "cell_type": "markdown",
   "metadata": {},
   "source": [
    "Again, a very high accuracy rating, perhaps it has to do with the low number of features:"
   ]
  },
  {
   "cell_type": "code",
   "execution_count": 101,
   "metadata": {},
   "outputs": [],
   "source": [
    "def predictLow(openingPrice):\n",
    "    return int(clfLow.predict([openingPrice][0]))"
   ]
  },
  {
   "cell_type": "code",
   "execution_count": 102,
   "metadata": {},
   "outputs": [],
   "source": [
    "def PredictLowHigh(openingPrice):\n",
    "    print(\"Today's Highest Price Should Be:\", predictHigh(openingPrice))\n",
    "    print(\"Today's Lowest Price Should Be:\", predictLow(openingPrice))\n",
    "    print(\"With an average of:\", (predictHigh(openingPrice)+predictLow(openingPrice))/2)"
   ]
  },
  {
   "cell_type": "code",
   "execution_count": 103,
   "metadata": {},
   "outputs": [
    {
     "name": "stdout",
     "output_type": "stream",
     "text": [
      "Today's Highest Price Should Be: 9988\n",
      "Today's Lowest Price Should Be: 8887\n",
      "With an average of: 9437.5\n"
     ]
    }
   ],
   "source": [
    "PredictLowHigh(9430)"
   ]
  },
  {
   "cell_type": "code",
   "execution_count": 104,
   "metadata": {},
   "outputs": [],
   "source": [
    "lowfunc = np.vectorize(predictLow)\n",
    "low = [number for number in df['Open']]\n",
    "lowfunc(low)\n",
    "highfunc = np.vectorize(predictHigh)"
   ]
  },
  {
   "cell_type": "code",
   "execution_count": 105,
   "metadata": {},
   "outputs": [
    {
     "data": {
      "text/html": [
       "<div>\n",
       "<style scoped>\n",
       "    .dataframe tbody tr th:only-of-type {\n",
       "        vertical-align: middle;\n",
       "    }\n",
       "\n",
       "    .dataframe tbody tr th {\n",
       "        vertical-align: top;\n",
       "    }\n",
       "\n",
       "    .dataframe thead th {\n",
       "        text-align: right;\n",
       "    }\n",
       "</style>\n",
       "<table border=\"1\" class=\"dataframe\">\n",
       "  <thead>\n",
       "    <tr style=\"text-align: right;\">\n",
       "      <th></th>\n",
       "      <th>Open</th>\n",
       "      <th>High</th>\n",
       "      <th>Predicted High</th>\n",
       "      <th>Low</th>\n",
       "      <th>Predicted Low</th>\n",
       "    </tr>\n",
       "    <tr>\n",
       "      <th>Date</th>\n",
       "      <th></th>\n",
       "      <th></th>\n",
       "      <th></th>\n",
       "      <th></th>\n",
       "      <th></th>\n",
       "    </tr>\n",
       "  </thead>\n",
       "  <tbody>\n",
       "    <tr>\n",
       "      <th>2018-02-11</th>\n",
       "      <td>8560.00</td>\n",
       "      <td>8595.00</td>\n",
       "      <td>9065</td>\n",
       "      <td>7851.00</td>\n",
       "      <td>8070</td>\n",
       "    </tr>\n",
       "    <tr>\n",
       "      <th>2018-02-12</th>\n",
       "      <td>8298.24</td>\n",
       "      <td>8883.00</td>\n",
       "      <td>8787</td>\n",
       "      <td>8032.65</td>\n",
       "      <td>7824</td>\n",
       "    </tr>\n",
       "    <tr>\n",
       "      <th>2018-02-13</th>\n",
       "      <td>8867.49</td>\n",
       "      <td>8950.00</td>\n",
       "      <td>9391</td>\n",
       "      <td>8393.10</td>\n",
       "      <td>8359</td>\n",
       "    </tr>\n",
       "    <tr>\n",
       "      <th>2018-02-14</th>\n",
       "      <td>8535.00</td>\n",
       "      <td>9436.00</td>\n",
       "      <td>9038</td>\n",
       "      <td>8490.00</td>\n",
       "      <td>8047</td>\n",
       "    </tr>\n",
       "    <tr>\n",
       "      <th>2018-02-15</th>\n",
       "      <td>9430.00</td>\n",
       "      <td>10249.81</td>\n",
       "      <td>9988</td>\n",
       "      <td>9342.46</td>\n",
       "      <td>8887</td>\n",
       "    </tr>\n",
       "  </tbody>\n",
       "</table>\n",
       "</div>"
      ],
      "text/plain": [
       "               Open      High  Predicted High      Low  Predicted Low\n",
       "Date                                                                 \n",
       "2018-02-11  8560.00   8595.00            9065  7851.00           8070\n",
       "2018-02-12  8298.24   8883.00            8787  8032.65           7824\n",
       "2018-02-13  8867.49   8950.00            9391  8393.10           8359\n",
       "2018-02-14  8535.00   9436.00            9038  8490.00           8047\n",
       "2018-02-15  9430.00  10249.81            9988  9342.46           8887"
      ]
     },
     "execution_count": 105,
     "metadata": {},
     "output_type": "execute_result"
    }
   ],
   "source": [
    "df['Predicted Low'] = lowfunc(low)\n",
    "df['Predicted High'] = highfunc(low)\n",
    "df = df[['Open','High','Predicted High','Low','Predicted Low']]\n",
    "df.tail()"
   ]
  },
  {
   "cell_type": "code",
   "execution_count": 110,
   "metadata": {},
   "outputs": [
    {
     "data": {
      "text/plain": [
       "[<matplotlib.lines.Line2D at 0x29108911438>,\n",
       " <matplotlib.lines.Line2D at 0x291089baf98>]"
      ]
     },
     "execution_count": 110,
     "metadata": {},
     "output_type": "execute_result"
    },
    {
     "data": {
      "image/png": "[encoded data removed]",
      "text/plain": [
       "<matplotlib.figure.Figure at 0x2910897c198>"
      ]
     },
     "metadata": {},
     "output_type": "display_data"
    }
   ],
   "source": [
    "plt.plot(df['High'],'g',df['Predicted High'], 'r')"
   ]
  },
  {
   "cell_type": "code",
   "execution_count": 111,
   "metadata": {},
   "outputs": [
    {
     "data": {
      "text/plain": [
       "[<matplotlib.lines.Line2D at 0x291089f5b00>,\n",
       " <matplotlib.lines.Line2D at 0x29108a31470>]"
      ]
     },
     "execution_count": 111,
     "metadata": {},
     "output_type": "execute_result"
    },
    {
     "data": {
      "image/png": "[encoded data removed]",
      "text/plain": [
       "<matplotlib.figure.Figure at 0x291089dc2b0>"
      ]
     },
     "metadata": {},
     "output_type": "display_data"
    }
   ],
   "source": [
    "plt.plot(df['Low'], 'g', df['Predicted Low'], 'r')"
   ]
  }
 ],
 "metadata": {
  "kernelspec": {
   "display_name": "Python 3",
   "language": "python",
   "name": "python3"
  },
  "language_info": {
   "codemirror_mode": {
    "name": "ipython",
    "version": 3
   },
   "file_extension": ".py",
   "mimetype": "text/x-python",
   "name": "python",
   "nbconvert_exporter": "python",
   "pygments_lexer": "ipython3",
   "version": "3.6.3"
  }
 },
 "nbformat": 4,
 "nbformat_minor": 2
}
